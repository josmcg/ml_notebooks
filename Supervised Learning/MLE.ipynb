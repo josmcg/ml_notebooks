{
 "cells": [
  {
   "cell_type": "markdown",
   "metadata": {},
   "source": [
    "# Supervised Learning\n",
    "\n",
    "Supervised learning is a machine learning regime in which we receive a set $\\{(x_i, y_i)\\}_{i=1}^n$ where each $x_i$ is an input example and each $y_i$ is a label. For example, $x_i$ could be a vector containing some measurements about the paw size of an animal, and $y_i$ could be a label indicating the species of the animal. We call this set of examples the training data.\n",
    "\n",
    "In a supervised learning setup, we want to use the training data to learn a function $f$ that maps from the example space into the label space. Formally we have a example space $\\mathcal{X}$ and a label space $\\mathcal{Y}$ and each $x_i \\in \\mathcal{X}$, $y_i \\in \\mathcal{Y}$. For most setups you can think of $\\mathcal{X}$ as $\\mathbb{R}^n$ and $\\mathcal{Y} \\subset \\mathbb{N}$. Our formal goal is then to learn a function $f:\\mathcal{X} \\rightarrow \\mathcal{Y}$ that is accurate to the truth.\n",
    "\n",
    "## Experimental setup\n",
    "\n",
    "To keep things simple we'll classify points as coming from one of two distributions. Each distribution will be a unit Gaussian with means $\\mu_1 = (1,1)$ and $\\mu_{-1} = (-1, -1)$. To get examples we will sample from these two distributions. To see why it is useful to discriminate between these two, think about the paw size of domesticated cats versus wild cats, how is each distributed?\n",
    "\n",
    "The code to sample from these distributions is below"
   ]
  },
  {
   "cell_type": "code",
   "execution_count": 1,
   "metadata": {},
   "outputs": [],
   "source": [
    "import torch\n",
    "from helpers import *\n",
    "\n",
    "def build_data(center_pos, center_neg, std, n):\n",
    "    center_pos = torch.tensor(center_pos)\n",
    "    center_neg = torch.tensor(center_neg)\n",
    "    means_pos = torch.stack([center_pos] *int(n/2)).float()\n",
    "    means_neg = torch.stack([center_neg] *int(n/2)).float()\n",
    "    X_pos = torch.normal(mean=means_pos, std=1)\n",
    "    X_neg = torch.normal(mean=means_neg,std=1)\n",
    "    labels = torch.cat([torch.ones(int(n/2)), -1*torch.ones(int(n/2))])\n",
    "    X = torch.cat((X_pos, X_neg), dim=0)\n",
    "    return X, labels\n",
    "\n"
   ]
  },
  {
   "cell_type": "code",
   "execution_count": 2,
   "metadata": {},
   "outputs": [
    {
     "data": {
      "text/plain": [
       "(torch.Size([100]), torch.Size([100, 2]))"
      ]
     },
     "execution_count": 2,
     "metadata": {},
     "output_type": "execute_result"
    }
   ],
   "source": [
    "n = 100\n",
    "X, labels = build_data((1,1), (-1,-1), 1,n )\n",
    "labels.shape, X.shape"
   ]
  },
  {
   "cell_type": "markdown",
   "metadata": {},
   "source": [
    "# Problem Visualization"
   ]
  },
  {
   "cell_type": "code",
   "execution_count": 3,
   "metadata": {},
   "outputs": [
    {
     "data": {
      "text/plain": [
       "<matplotlib.legend.Legend at 0x120132400>"
      ]
     },
     "execution_count": 3,
     "metadata": {},
     "output_type": "execute_result"
    },
    {
     "data": {
      "image/png": "[encoded data removed]",
      "text/plain": [
       "<Figure size 432x288 with 1 Axes>"
      ]
     },
     "metadata": {
      "needs_background": "light"
     },
     "output_type": "display_data"
    }
   ],
   "source": [
    "pos_idxs = range(0, int(n/2))\n",
    "neg_idxs = range(int(n/2), n)\n",
    "visualize_points(X, pos_idxs, neg_idxs)"
   ]
  },
  {
   "cell_type": "markdown",
   "metadata": {},
   "source": [
    "# Building two classifiers\n",
    "\n",
    "## Linear Regression and Maximum Likelihood Estimation\n",
    "\n",
    "Linear Regression is a method of finding the relationship between a set of input variables and a response variable. In general linear regression is so named for fitting to models of the form:\n",
    "\n",
    "$$ y = w_1 x_1 + w_2 x_2 + \\ldots + w_n x_n$$\n",
    "\n",
    "In other words, it is called Linear Regression because the input $x_1, \\ldots x_n$ is linearly related to the response variable $y$. Given this model, we have a number of potential loss functions. Each loss function is related to a generating distribution $D$. Below is a comparison of two different generating distributions.\n",
    "\n",
    "##  Normal Likelihood and the MSE Loss\n",
    "Recall the MSE loss\n",
    "\n",
    "$$||y - w^Tx||^2$$\n",
    "\n",
    "\n",
    "If we use the MSE Loss we are saying that we expect $y | w^Tx \\sim \\mathcal{N}(w^Tx, 1)$. For a classification context this is not exactly correct, because our values are constrained to $[-1,1]$ but the results will be alright."
   ]
  },
  {
   "cell_type": "code",
   "execution_count": 4,
   "metadata": {},
   "outputs": [],
   "source": [
    "from torch import nn\n",
    "from torch.utils.data import TensorDataset, DataLoader\n",
    "model_MSE = nn.Linear(2,1)\n",
    "loss = nn.MSELoss()\n",
    "data = torch.cat((X, labels.unsqueeze(1)),dim=1)\n",
    "loader = DataLoader(TensorDataset(data), batch_size=1, shuffle=True)\n",
    "epochs = 15\n",
    "train(model_MSE, loss, loader, epochs)"
   ]
  },
  {
   "cell_type": "code",
   "execution_count": 5,
   "metadata": {},
   "outputs": [
    {
     "data": {
      "text/plain": [
       "(Parameter containing:\n",
       " tensor([[0.1297, 0.6573]], requires_grad=True), Parameter containing:\n",
       " tensor([0.0145], requires_grad=True))"
      ]
     },
     "execution_count": 5,
     "metadata": {},
     "output_type": "execute_result"
    }
   ],
   "source": [
    "weights, bias = [param for param in model_MSE.parameters()]\n",
    "weights, bias"
   ]
  },
  {
   "cell_type": "markdown",
   "metadata": {},
   "source": [
    "### plot weights for linear regression"
   ]
  },
  {
   "cell_type": "code",
   "execution_count": 6,
   "metadata": {},
   "outputs": [
    {
     "data": {
      "image/png": "[encoded data removed]",
      "text/plain": [
       "<Figure size 432x288 with 1 Axes>"
      ]
     },
     "metadata": {
      "needs_background": "light"
     },
     "output_type": "display_data"
    }
   ],
   "source": [
    "visualize_decision(weights, bias, X)"
   ]
  },
  {
   "cell_type": "markdown",
   "metadata": {},
   "source": [
    "## Logistic Loss and Bernoulli Likelihood\n",
    "\n",
    "Next we will use the logistic loss given by $\\frac{1}{\\ln 2}\\ln(1 + e^{-yw^Tx})$. This loss function fits the distribution\n",
    "\n",
    "\n",
    "$$y|w^Tx \\sim Bernoulli\\left(\\frac{1}{1 + e^{-w^Tx}}\\right)$$\n",
    "\n",
    "Which you will notice is exactly the situation we are in for binary classification."
   ]
  },
  {
   "cell_type": "code",
   "execution_count": 7,
   "metadata": {},
   "outputs": [],
   "source": [
    "#first we need a logistic loss target\n",
    "class LogisticLoss(nn.Module):\n",
    "    def __init__(self, norm=torch.log(torch.tensor(2.0))):\n",
    "        \"\"\"\n",
    "        Initialize a logistic loss object\n",
    "        \"\"\"\n",
    "        super(LogisticLoss, self).__init__()\n",
    "        self.norm = norm\n",
    "        \n",
    "    def forward(self, pred, target):\n",
    "        return (self.norm * torch.log(1 + torch.exp(-1*target*pred))).sum()"
   ]
  },
  {
   "cell_type": "code",
   "execution_count": 8,
   "metadata": {},
   "outputs": [
    {
     "data": {
      "text/plain": [
       "(Parameter containing:\n",
       " tensor([[1.1332, 1.7031]], requires_grad=True), Parameter containing:\n",
       " tensor([0.0769], requires_grad=True))"
      ]
     },
     "execution_count": 8,
     "metadata": {},
     "output_type": "execute_result"
    }
   ],
   "source": [
    "loss = LogisticLoss()\n",
    "model_ll = nn.Linear(2,1)\n",
    "loader = DataLoader(TensorDataset(data), batch_size=1, shuffle=True)\n",
    "epochs = 15\n",
    "train(model_ll, loss, loader, epochs)\n",
    "weights, bias = [param for param in model_ll.parameters()]\n",
    "weights, bias"
   ]
  },
  {
   "cell_type": "code",
   "execution_count": 9,
   "metadata": {},
   "outputs": [
    {
     "data": {
      "image/png": "[encoded data removed]",
      "text/plain": [
       "<Figure size 432x288 with 1 Axes>"
      ]
     },
     "metadata": {
      "needs_background": "light"
     },
     "output_type": "display_data"
    }
   ],
   "source": [
    "visualize_decision(weights, bias, X)"
   ]
  },
  {
   "cell_type": "markdown",
   "metadata": {},
   "source": [
    "# Measuring Performance\n",
    "\n",
    "As you can see, these models each produced quite different decision boundaries. A natural question is, which of these decision boundaries is better? A theoretician may say that the latter of the lines is better, because it was generated using correct assumptions about the generating process. However, we can see this experimentally as well."
   ]
  },
  {
   "cell_type": "code",
   "execution_count": 24,
   "metadata": {},
   "outputs": [
    {
     "name": "stdout",
     "output_type": "stream",
     "text": [
      "MSE Error Rate: 0.12999999523162842\n",
      "Logistic Loss Error Rate: 0.0860000029206276\n"
     ]
    }
   ],
   "source": [
    "n = 1000\n",
    "X, labels = build_data((1,1), (-1,-1), 1,n )\n",
    "# we grab our predictions by sign(X) each time\n",
    "pred_mse = torch.sign(model_MSE(X))\n",
    "err_mse = (labels != pred_mse.squeeze()).sum().float()/n\n",
    "pred_ll = torch.sign(model_ll(X))\n",
    "err_ll = (labels != pred_ll.squeeze()).sum().float()/n\n",
    "print(f\"MSE Error Rate: {err_mse}\")\n",
    "print(f\"Logistic Loss Error Rate: {err_ll}\")"
   ]
  },
  {
   "cell_type": "markdown",
   "metadata": {},
   "source": [
    "# Higher Dimensional Experiments"
   ]
  },
  {
   "cell_type": "code",
   "execution_count": null,
   "metadata": {},
   "outputs": [],
   "source": []
  }
 ],
 "metadata": {
  "kernelspec": {
   "display_name": "Python 3",
   "language": "python",
   "name": "python3"
  },
  "language_info": {
   "codemirror_mode": {
    "name": "ipython",
    "version": 3
   },
   "file_extension": ".py",
   "mimetype": "text/x-python",
   "name": "python",
   "nbconvert_exporter": "python",
   "pygments_lexer": "ipython3",
   "version": "3.6.7"
  }
 },
 "nbformat": 4,
 "nbformat_minor": 2
}
